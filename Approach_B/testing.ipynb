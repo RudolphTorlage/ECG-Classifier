{
  "cells": [
    {
      "cell_type": "markdown",
      "metadata": {
        "id": "6nJOk2kg25Ho"
      },
      "source": [
        "#Import libraries"
      ]
    },
    {
      "cell_type": "code",
      "execution_count": null,
      "metadata": {
        "id": "FMx5cj-T24nT"
      },
      "outputs": [],
      "source": [
        "import os\n",
        "\n",
        "import numpy as np\n",
        "import pandas as pd\n",
        "import matplotlib.pyplot as plt\n",
        "\n",
        "import joblib\n",
        "\n",
        "import tensorflow as tf\n",
        "\n",
        "from sklearn.metrics import classification_report, precision_recall_curve"
      ]
    },
    {
      "cell_type": "markdown",
      "metadata": {
        "id": "jkTeJh-53Dtc"
      },
      "source": [
        "#Load data"
      ]
    },
    {
      "cell_type": "code",
      "execution_count": null,
      "metadata": {
        "id": "t_QpmDGJ3DU8"
      },
      "outputs": [],
      "source": [
        "files = [\"tracings_part_14to17_filtered.npy\", \"data_part_14to17_filtered.h5\"]\n",
        "\n",
        "base_path = '/content/drive/MyDrive/RedoneDataOct/'\n",
        "\n",
        "tracings_file = os.path.join(base_path, files[0])\n",
        "data_file = os.path.join(base_path, files[1])\n",
        "\n",
        "data = pd.read_hdf(data_file)\n",
        "tracings = np.load(tracings_file, allow_pickle=True)\n",
        "data['tracings'] = list(tracings)\n",
        "\n",
        "arrhythmia_columns = ['1dAVb', 'RBBB', 'LBBB', 'SB', 'ST', 'AF', 'normal_ecg']\n",
        "\n",
        "# Define X (features) and y (labels)\n",
        "X = np.array([tracing for tracing in data['tracings']])\n",
        "y = data[['1dAVb', 'RBBB', 'LBBB', 'SB', 'ST', 'AF', 'normal_ecg']].values"
      ]
    },
    {
      "cell_type": "markdown",
      "metadata": {
        "id": "a-SQvblP3I9O"
      },
      "source": [
        "#Scale data"
      ]
    },
    {
      "cell_type": "code",
      "execution_count": null,
      "metadata": {
        "id": "RxWYik-53IlG"
      },
      "outputs": [],
      "source": [
        "scaler_file = '/content/drive/MyDrive/RedoneDataOct/Processed/Generalscaler.pkl'\n",
        "# Load scaler\n",
        "scaler = joblib.load(scaler_file)\n",
        "\n",
        "X = np.array([scaler.transform(tracing) for tracing in X])"
      ]
    },
    {
      "cell_type": "markdown",
      "metadata": {
        "id": "LFhp7AKI3LvE"
      },
      "source": [
        "#Load model and make predictions"
      ]
    },
    {
      "cell_type": "code",
      "execution_count": null,
      "metadata": {
        "id": "t3Aoz8793RGN"
      },
      "outputs": [],
      "source": [
        "model = tf.keras.models.load_model('/content/drive/MyDrive/RedoneDataOct/Multi/PUB_MODEL7.keras')\n",
        "# Make predictions on the normalized test set\n",
        "y_pred = model.predict(X)"
      ]
    },
    {
      "cell_type": "markdown",
      "metadata": {
        "id": "uhASWaGt3S_E"
      },
      "source": [
        "#Evaluate model performance"
      ]
    },
    {
      "cell_type": "code",
      "execution_count": null,
      "metadata": {
        "colab": {
          "base_uri": "https://localhost:8080/",
          "height": 1000
        },
        "id": "6sKMGo1wkuNS",
        "outputId": "8c116109-e9ff-4133-c088-22c586c4c3e2"
      },
      "outputs": [],
      "source": [
        "# Compute precision-recall curve for each class\n",
        "precision = {}\n",
        "recall = {}\n",
        "thresholds = {}\n",
        "\n",
        "# Convert test labels to binary format if necessary (if TRUE/FALSE were strings in the original dataset)\n",
        "y = data[arrhythmia_columns].replace({'TRUE': 1, 'FALSE': 0}).values\n",
        "\n",
        "# Compute precision-recall curve for each class\n",
        "for i, label in enumerate(arrhythmia_columns):\n",
        "    precision[label], recall[label], thresholds[label] = precision_recall_curve(y[:, i], y_pred[:, i])\n",
        "\n",
        "# Plot precision-recall curve for each class\n",
        "plt.figure(figsize=(10, 7))\n",
        "for label in arrhythmia_columns:\n",
        "    plt.plot(recall[label], precision[label], label=f'Precision-Recall curve for {label}')\n",
        "plt.xlabel('Recall')\n",
        "plt.ylabel('Precision')\n",
        "plt.title('Precision-Recall Curve for Each Arrhythmia')\n",
        "plt.legend(loc=\"best\")\n",
        "plt.show()\n",
        "\n",
        "# Find the optimal threshold that maximizes F1 score for each arrhythmia class\n",
        "optimal_thresholds = {}\n",
        "for i, label in enumerate(arrhythmia_columns):\n",
        "    f1_scores = 2 * (precision[label] * recall[label]) / (precision[label] + recall[label] + 1e-6)  # Avoid division by zero\n",
        "    optimal_idx = np.argmax(f1_scores)\n",
        "    optimal_thresholds[label] = thresholds[label][optimal_idx]\n",
        "    print(f'Optimal threshold for {label}: {optimal_thresholds[label]:.2f} (F1 score: {f1_scores[optimal_idx]:.2f})')\n",
        "\n",
        "# Apply the optimal thresholds for making predictions\n",
        "y_pred_optimal_1 = np.zeros_like(y_pred)\n",
        "for i, label in enumerate(arrhythmia_columns):\n",
        "    y_pred_optimal_1[:, i] = (y_pred[:, i] > optimal_thresholds[label]).astype(int)\n",
        "\n",
        "# Evaluate model performance with the new thresholds\n",
        "print(\"Classification Report with Optimal Thresholds:\")\n",
        "print(classification_report(y, y_pred_optimal_1, target_names=arrhythmia_columns, zero_division=1))"
      ]
    }
  ],
  "metadata": {
    "accelerator": "GPU",
    "colab": {
      "gpuType": "L4",
      "machine_shape": "hm",
      "provenance": []
    },
    "kernelspec": {
      "display_name": "Python 3",
      "name": "python3"
    },
    "language_info": {
      "name": "python"
    }
  },
  "nbformat": 4,
  "nbformat_minor": 0
}
